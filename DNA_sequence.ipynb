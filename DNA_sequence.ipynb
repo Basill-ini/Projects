{
 "cells": [
  {
   "cell_type": "markdown",
   "metadata": {},
   "source": [
    "# Задача:\n",
    "Есть последовательность ДНК. Как известно, она состоит из букв A, C, T, G. В биоинформатике есть такая задача - предсказывать недостающие данные (пропуски) в последовательности генов. Например, есть пропуск в последовательности. Знаем, что есть 5-30 известных символов слева, 5-30 известных символов - справа от этого пропуска. Вам предоставляется файл расширения fasta."
   ]
  },
  {
   "cell_type": "code",
   "execution_count": 198,
   "metadata": {},
   "outputs": [],
   "source": [
    "import warnings\n",
    "import pandas as pd\n",
    "import numpy as np\n",
    "import seaborn as sns\n",
    "from Bio import SeqIO\n",
    "from Bio.Seq import Seq\n",
    "import tensorflow as tf\n",
    "\n",
    "warnings.filterwarnings('ignore')\n",
    "pd.set_option('display.max_rows',50) \n",
    "pd.set_option('display.max_columns',50) \n",
    "pd.set_option('display.width', None)\n",
    "\n",
    "tf.enable_eager_execution()"
   ]
  },
  {
   "cell_type": "code",
   "execution_count": 190,
   "metadata": {},
   "outputs": [],
   "source": [
    "from tensorflow.core.protobuf import rewriter_config_pb2\n",
    "from tensorflow.keras.backend import set_session\n",
    "tf.keras.backend.clear_session()  # For easy reset of notebook state.\n",
    "\n",
    "config_proto = tf.ConfigProto()\n",
    "off = rewriter_config_pb2.RewriterConfig.OFF\n",
    "config_proto.graph_options.rewrite_options.arithmetic_optimization = off\n",
    "session = tf.Session(config=config_proto)\n",
    "set_session(session)"
   ]
  },
  {
   "cell_type": "markdown",
   "metadata": {},
   "source": [
    "# Извлекаем данные:"
   ]
  },
  {
   "cell_type": "markdown",
   "metadata": {},
   "source": [
    "В Python cуществует специализированная библиотека **BioPython**, предназначенная специально для чтения файлов с расширением fasta и агрегацией необходимой информации. \n",
    "**FASTA** — текстовый формат для нуклеотидных или полипептидных последовательностей, в котором нуклеотиды или аминокислоты обозначаются при помощи однобуквенных кодов."
   ]
  },
  {
   "cell_type": "code",
   "execution_count": 256,
   "metadata": {},
   "outputs": [],
   "source": [
    "with open('mart_export.fasta') as fasta_file:  \n",
    "    seq = []                                            # список последовательностей ДНК\n",
    "    lengths = []                                        # список длин последовательностей                               \n",
    "    for seq_record in SeqIO.parse(fasta_file, 'fasta'): # цикл перебора последовательностей\n",
    "        seq.append(seq_record.seq)\n",
    "        lengths.append(len(seq_record.seq))"
   ]
  },
  {
   "cell_type": "markdown",
   "metadata": {},
   "source": [
    "Создадим датафрейм полученных значений:"
   ]
  },
  {
   "cell_type": "code",
   "execution_count": 257,
   "metadata": {},
   "outputs": [],
   "source": [
    "dt = pd.DataFrame({'DNA_seq':seq ,'Lenght':lengths})    "
   ]
  },
  {
   "cell_type": "code",
   "execution_count": 258,
   "metadata": {},
   "outputs": [
    {
     "data": {
      "text/html": [
       "<div>\n",
       "<style scoped>\n",
       "    .dataframe tbody tr th:only-of-type {\n",
       "        vertical-align: middle;\n",
       "    }\n",
       "\n",
       "    .dataframe tbody tr th {\n",
       "        vertical-align: top;\n",
       "    }\n",
       "\n",
       "    .dataframe thead th {\n",
       "        text-align: right;\n",
       "    }\n",
       "</style>\n",
       "<table border=\"1\" class=\"dataframe\">\n",
       "  <thead>\n",
       "    <tr style=\"text-align: right;\">\n",
       "      <th></th>\n",
       "      <th>DNA_seq</th>\n",
       "      <th>Lenght</th>\n",
       "    </tr>\n",
       "  </thead>\n",
       "  <tbody>\n",
       "    <tr>\n",
       "      <th>0</th>\n",
       "      <td>(A, T, G, G, A, G, A, T, C, C, C, T, G, T, G, ...</td>\n",
       "      <td>483</td>\n",
       "    </tr>\n",
       "    <tr>\n",
       "      <th>1</th>\n",
       "      <td>(A, T, G, C, A, G, A, G, G, T, C, G, C, C, T, ...</td>\n",
       "      <td>4443</td>\n",
       "    </tr>\n",
       "    <tr>\n",
       "      <th>2</th>\n",
       "      <td>(A, T, G, C, T, T, C, T, G, G, G, C, G, A, G, ...</td>\n",
       "      <td>975</td>\n",
       "    </tr>\n",
       "    <tr>\n",
       "      <th>3</th>\n",
       "      <td>(A, T, G, C, G, G, C, C, C, C, A, G, G, A, G, ...</td>\n",
       "      <td>1404</td>\n",
       "    </tr>\n",
       "    <tr>\n",
       "      <th>4</th>\n",
       "      <td>(A, T, G, C, T, C, T, T, T, G, A, G, G, G, C, ...</td>\n",
       "      <td>1539</td>\n",
       "    </tr>\n",
       "  </tbody>\n",
       "</table>\n",
       "</div>"
      ],
      "text/plain": [
       "                                             DNA_seq  Lenght\n",
       "0  (A, T, G, G, A, G, A, T, C, C, C, T, G, T, G, ...     483\n",
       "1  (A, T, G, C, A, G, A, G, G, T, C, G, C, C, T, ...    4443\n",
       "2  (A, T, G, C, T, T, C, T, G, G, G, C, G, A, G, ...     975\n",
       "3  (A, T, G, C, G, G, C, C, C, C, A, G, G, A, G, ...    1404\n",
       "4  (A, T, G, C, T, C, T, T, T, G, A, G, G, G, C, ...    1539"
      ]
     },
     "execution_count": 258,
     "metadata": {},
     "output_type": "execute_result"
    }
   ],
   "source": [
    "dt.head(5)"
   ]
  },
  {
   "cell_type": "markdown",
   "metadata": {},
   "source": [
    "# Анализируем датасет:"
   ]
  },
  {
   "cell_type": "code",
   "execution_count": 259,
   "metadata": {},
   "outputs": [
    {
     "name": "stdout",
     "output_type": "stream",
     "text": [
      "<class 'pandas.core.frame.DataFrame'>\n",
      "RangeIndex: 249158 entries, 0 to 249157\n",
      "Data columns (total 2 columns):\n",
      " #   Column   Non-Null Count   Dtype \n",
      "---  ------   --------------   ----- \n",
      " 0   DNA_seq  249158 non-null  object\n",
      " 1   Lenght   249158 non-null  int64 \n",
      "dtypes: int64(1), object(1)\n",
      "memory usage: 3.8+ MB\n"
     ]
    }
   ],
   "source": [
    "dt.info()"
   ]
  },
  {
   "cell_type": "markdown",
   "metadata": {},
   "source": [
    "Итак датасет имеет порядка 250 тыс. строк. Все строки заполнены значениями."
   ]
  },
  {
   "cell_type": "code",
   "execution_count": 260,
   "metadata": {},
   "outputs": [
    {
     "data": {
      "text/plain": [
       "count                                                249158\n",
       "unique                                                89658\n",
       "top       (S, e, q, u, e, n, c, e, u, n, a, v, a, i, l, ...\n",
       "freq                                                 138370\n",
       "Name: DNA_seq, dtype: object"
      ]
     },
     "execution_count": 260,
     "metadata": {},
     "output_type": "execute_result"
    }
   ],
   "source": [
    "dt['DNA_seq'].describe()"
   ]
  },
  {
   "cell_type": "code",
   "execution_count": 261,
   "metadata": {},
   "outputs": [
    {
     "name": "stdout",
     "output_type": "stream",
     "text": [
      "Процент утерянных последовательностей ДНК: 55.54 %\n",
      "Длина утерянной последовательности ДНК: 19\n"
     ]
    }
   ],
   "source": [
    "Not_avail = round((dt['DNA_seq'].describe()[3]/dt['DNA_seq'].describe()[0])*100,2)\n",
    "lenght = len(dt['DNA_seq'].describe()[2])\n",
    "print(f'Процент утерянных последовательностей ДНК: {Not_avail} %')\n",
    "print(f'Длина утерянной последовательности ДНК: {lenght}')"
   ]
  },
  {
   "cell_type": "markdown",
   "metadata": {},
   "source": [
    "Анализ столбца 'DNA_seq' показал, что в большинстве случаев строки заполнены значением \"Последовательность отсутствует\". Процент отсутствующих последовательностей 55%."
   ]
  },
  {
   "cell_type": "code",
   "execution_count": 262,
   "metadata": {},
   "outputs": [
    {
     "data": {
      "text/plain": [
       "count    249158.000000\n",
       "mean        517.774284\n",
       "std        1183.656562\n",
       "min           3.000000\n",
       "25%          19.000000\n",
       "50%          19.000000\n",
       "75%         592.000000\n",
       "max      107976.000000\n",
       "Name: Lenght, dtype: float64"
      ]
     },
     "execution_count": 262,
     "metadata": {},
     "output_type": "execute_result"
    }
   ],
   "source": [
    "dt['Lenght'].describe()"
   ]
  },
  {
   "cell_type": "markdown",
   "metadata": {},
   "source": [
    "Вполне ожидаемо что медианное значение соответствует длине утерянных последовательностей ДНК, на этой основе легко будет отфильтровать лишние значения."
   ]
  },
  {
   "cell_type": "code",
   "execution_count": 263,
   "metadata": {},
   "outputs": [],
   "source": [
    "dt = dt[dt.Lenght != 19] # Отсекаем все что имеет длину 19 символов"
   ]
  },
  {
   "cell_type": "code",
   "execution_count": 264,
   "metadata": {},
   "outputs": [
    {
     "data": {
      "text/plain": [
       "count    110774.000000\n",
       "mean       1140.866169\n",
       "std        1565.973858\n",
       "min           3.000000\n",
       "25%         364.000000\n",
       "50%         708.000000\n",
       "75%        1428.000000\n",
       "max      107976.000000\n",
       "Name: Lenght, dtype: float64"
      ]
     },
     "execution_count": 264,
     "metadata": {},
     "output_type": "execute_result"
    }
   ],
   "source": [
    "dt['Lenght'].describe()"
   ]
  },
  {
   "cell_type": "code",
   "execution_count": 218,
   "metadata": {},
   "outputs": [
    {
     "data": {
      "text/plain": [
       "<matplotlib.axes._subplots.AxesSubplot at 0x22ab6af2c88>"
      ]
     },
     "execution_count": 218,
     "metadata": {},
     "output_type": "execute_result"
    },
    {
     "data": {
      "image/png": "[encoded data removed]",
      "text/plain": [
       "<Figure size 432x288 with 1 Axes>"
      ]
     },
     "metadata": {
      "needs_background": "light"
     },
     "output_type": "display_data"
    }
   ],
   "source": [
    "sns.countplot(x=dt['Lenght'], data=dt)"
   ]
  },
  {
   "cell_type": "markdown",
   "metadata": {},
   "source": [
    "Самый простой способ отфильтровать выбросы — воспользоваться формулой интерквартильного расстояния (межквартильного размаха). Выбросом считаются такие значения, которые лежат вне рамок\n",
    "\n",
    "percentile(25) -1.5IQR : percentile(75)+1.5IQR\n",
    "\n",
    "IQR = percentile(75) - percentile(25)."
   ]
  },
  {
   "cell_type": "code",
   "execution_count": 265,
   "metadata": {},
   "outputs": [
    {
     "name": "stdout",
     "output_type": "stream",
     "text": [
      "Границы выбросов - 0 : 3024.0\n"
     ]
    }
   ],
   "source": [
    "percintile_25 = 364\n",
    "percintile_75 = 1428\n",
    "IQR = percintile_75 - percintile_25\n",
    "\n",
    "Max = percintile_75 + 1.5*IQR\n",
    "\n",
    "print(f'Границы выбросов - {0} : {Max}')"
   ]
  },
  {
   "cell_type": "code",
   "execution_count": 266,
   "metadata": {},
   "outputs": [],
   "source": [
    "dt = dt[dt.Lenght < 3000]"
   ]
  },
  {
   "cell_type": "code",
   "execution_count": 267,
   "metadata": {},
   "outputs": [
    {
     "data": {
      "text/html": [
       "<div>\n",
       "<style scoped>\n",
       "    .dataframe tbody tr th:only-of-type {\n",
       "        vertical-align: middle;\n",
       "    }\n",
       "\n",
       "    .dataframe tbody tr th {\n",
       "        vertical-align: top;\n",
       "    }\n",
       "\n",
       "    .dataframe thead th {\n",
       "        text-align: right;\n",
       "    }\n",
       "</style>\n",
       "<table border=\"1\" class=\"dataframe\">\n",
       "  <thead>\n",
       "    <tr style=\"text-align: right;\">\n",
       "      <th></th>\n",
       "      <th>DNA_seq</th>\n",
       "      <th>Lenght</th>\n",
       "    </tr>\n",
       "  </thead>\n",
       "  <tbody>\n",
       "    <tr>\n",
       "      <th>0</th>\n",
       "      <td>(A, T, G, G, A, G, A, T, C, C, C, T, G, T, G, ...</td>\n",
       "      <td>483</td>\n",
       "    </tr>\n",
       "    <tr>\n",
       "      <th>2</th>\n",
       "      <td>(A, T, G, C, T, T, C, T, G, G, G, C, G, A, G, ...</td>\n",
       "      <td>975</td>\n",
       "    </tr>\n",
       "    <tr>\n",
       "      <th>3</th>\n",
       "      <td>(A, T, G, C, G, G, C, C, C, C, A, G, G, A, G, ...</td>\n",
       "      <td>1404</td>\n",
       "    </tr>\n",
       "    <tr>\n",
       "      <th>4</th>\n",
       "      <td>(A, T, G, C, T, C, T, T, T, G, A, G, G, G, C, ...</td>\n",
       "      <td>1539</td>\n",
       "    </tr>\n",
       "    <tr>\n",
       "      <th>5</th>\n",
       "      <td>(A, T, G, G, C, G, G, C, G, G, C, G, G, C, T, ...</td>\n",
       "      <td>1530</td>\n",
       "    </tr>\n",
       "  </tbody>\n",
       "</table>\n",
       "</div>"
      ],
      "text/plain": [
       "                                             DNA_seq  Lenght\n",
       "0  (A, T, G, G, A, G, A, T, C, C, C, T, G, T, G, ...     483\n",
       "2  (A, T, G, C, T, T, C, T, G, G, G, C, G, A, G, ...     975\n",
       "3  (A, T, G, C, G, G, C, C, C, C, A, G, G, A, G, ...    1404\n",
       "4  (A, T, G, C, T, C, T, T, T, G, A, G, G, G, C, ...    1539\n",
       "5  (A, T, G, G, C, G, G, C, G, G, C, G, G, C, T, ...    1530"
      ]
     },
     "execution_count": 267,
     "metadata": {},
     "output_type": "execute_result"
    }
   ],
   "source": [
    "dt.head(5)"
   ]
  },
  {
   "cell_type": "code",
   "execution_count": 268,
   "metadata": {},
   "outputs": [],
   "source": [
    "dt = dt.reset_index()\n",
    "dt.drop(['index'], axis=1, inplace=True)"
   ]
  },
  {
   "cell_type": "code",
   "execution_count": 269,
   "metadata": {},
   "outputs": [],
   "source": [
    "dt.drop(['Lenght'], axis=1, inplace=True)"
   ]
  },
  {
   "cell_type": "code",
   "execution_count": 270,
   "metadata": {},
   "outputs": [
    {
     "data": {
      "text/html": [
       "<div>\n",
       "<style scoped>\n",
       "    .dataframe tbody tr th:only-of-type {\n",
       "        vertical-align: middle;\n",
       "    }\n",
       "\n",
       "    .dataframe tbody tr th {\n",
       "        vertical-align: top;\n",
       "    }\n",
       "\n",
       "    .dataframe thead th {\n",
       "        text-align: right;\n",
       "    }\n",
       "</style>\n",
       "<table border=\"1\" class=\"dataframe\">\n",
       "  <thead>\n",
       "    <tr style=\"text-align: right;\">\n",
       "      <th></th>\n",
       "      <th>DNA_seq</th>\n",
       "    </tr>\n",
       "  </thead>\n",
       "  <tbody>\n",
       "    <tr>\n",
       "      <th>0</th>\n",
       "      <td>(A, T, G, G, A, G, A, T, C, C, C, T, G, T, G, ...</td>\n",
       "    </tr>\n",
       "    <tr>\n",
       "      <th>1</th>\n",
       "      <td>(A, T, G, C, T, T, C, T, G, G, G, C, G, A, G, ...</td>\n",
       "    </tr>\n",
       "    <tr>\n",
       "      <th>2</th>\n",
       "      <td>(A, T, G, C, G, G, C, C, C, C, A, G, G, A, G, ...</td>\n",
       "    </tr>\n",
       "    <tr>\n",
       "      <th>3</th>\n",
       "      <td>(A, T, G, C, T, C, T, T, T, G, A, G, G, G, C, ...</td>\n",
       "    </tr>\n",
       "    <tr>\n",
       "      <th>4</th>\n",
       "      <td>(A, T, G, G, C, G, G, C, G, G, C, G, G, C, T, ...</td>\n",
       "    </tr>\n",
       "  </tbody>\n",
       "</table>\n",
       "</div>"
      ],
      "text/plain": [
       "                                             DNA_seq\n",
       "0  (A, T, G, G, A, G, A, T, C, C, C, T, G, T, G, ...\n",
       "1  (A, T, G, C, T, T, C, T, G, G, G, C, G, A, G, ...\n",
       "2  (A, T, G, C, G, G, C, C, C, C, A, G, G, A, G, ...\n",
       "3  (A, T, G, C, T, C, T, T, T, G, A, G, G, G, C, ...\n",
       "4  (A, T, G, G, C, G, G, C, G, G, C, G, G, C, T, ..."
      ]
     },
     "execution_count": 270,
     "metadata": {},
     "output_type": "execute_result"
    }
   ],
   "source": [
    "dt.head(5)"
   ]
  },
  {
   "cell_type": "markdown",
   "metadata": {},
   "source": [
    "Проверим наличие \"лишних\" символов в наших последовательностей:"
   ]
  },
  {
   "cell_type": "code",
   "execution_count": 271,
   "metadata": {},
   "outputs": [],
   "source": [
    "O = []\n",
    "\n",
    "for row in dt['DNA_seq']:\n",
    "    Other = 0\n",
    "    for i in row:\n",
    "        if i == 'T' or i == 'C' or i == 'G' or i == 'A':\n",
    "            pass\n",
    "        else:\n",
    "            Other +=1\n",
    "    O.append(Other)"
   ]
  },
  {
   "cell_type": "code",
   "execution_count": 272,
   "metadata": {},
   "outputs": [],
   "source": [
    "dt['O_sum'] = O"
   ]
  },
  {
   "cell_type": "code",
   "execution_count": 273,
   "metadata": {},
   "outputs": [
    {
     "data": {
      "text/plain": [
       "count    103364.000000\n",
       "mean          0.121454\n",
       "std           0.430915\n",
       "min           0.000000\n",
       "25%           0.000000\n",
       "50%           0.000000\n",
       "75%           0.000000\n",
       "max           2.000000\n",
       "Name: O_sum, dtype: float64"
      ]
     },
     "execution_count": 273,
     "metadata": {},
     "output_type": "execute_result"
    }
   ],
   "source": [
    "dt['O_sum'].describe()"
   ]
  },
  {
   "cell_type": "markdown",
   "metadata": {},
   "source": [
    "В датасете присутствуют такие последовательности. Значит выбросим их."
   ]
  },
  {
   "cell_type": "code",
   "execution_count": 274,
   "metadata": {},
   "outputs": [],
   "source": [
    "dt = dt[dt.O_sum == 0]"
   ]
  },
  {
   "cell_type": "code",
   "execution_count": 275,
   "metadata": {},
   "outputs": [
    {
     "data": {
      "text/html": [
       "<div>\n",
       "<style scoped>\n",
       "    .dataframe tbody tr th:only-of-type {\n",
       "        vertical-align: middle;\n",
       "    }\n",
       "\n",
       "    .dataframe tbody tr th {\n",
       "        vertical-align: top;\n",
       "    }\n",
       "\n",
       "    .dataframe thead th {\n",
       "        text-align: right;\n",
       "    }\n",
       "</style>\n",
       "<table border=\"1\" class=\"dataframe\">\n",
       "  <thead>\n",
       "    <tr style=\"text-align: right;\">\n",
       "      <th></th>\n",
       "      <th>DNA_seq</th>\n",
       "      <th>O_sum</th>\n",
       "    </tr>\n",
       "  </thead>\n",
       "  <tbody>\n",
       "    <tr>\n",
       "      <th>0</th>\n",
       "      <td>(A, T, G, G, A, G, A, T, C, C, C, T, G, T, G, ...</td>\n",
       "      <td>0</td>\n",
       "    </tr>\n",
       "    <tr>\n",
       "      <th>1</th>\n",
       "      <td>(A, T, G, C, T, T, C, T, G, G, G, C, G, A, G, ...</td>\n",
       "      <td>0</td>\n",
       "    </tr>\n",
       "    <tr>\n",
       "      <th>2</th>\n",
       "      <td>(A, T, G, C, G, G, C, C, C, C, A, G, G, A, G, ...</td>\n",
       "      <td>0</td>\n",
       "    </tr>\n",
       "    <tr>\n",
       "      <th>3</th>\n",
       "      <td>(A, T, G, C, T, C, T, T, T, G, A, G, G, G, C, ...</td>\n",
       "      <td>0</td>\n",
       "    </tr>\n",
       "    <tr>\n",
       "      <th>4</th>\n",
       "      <td>(A, T, G, G, C, G, G, C, G, G, C, G, G, C, T, ...</td>\n",
       "      <td>0</td>\n",
       "    </tr>\n",
       "    <tr>\n",
       "      <th>...</th>\n",
       "      <td>...</td>\n",
       "      <td>...</td>\n",
       "    </tr>\n",
       "    <tr>\n",
       "      <th>103358</th>\n",
       "      <td>(A, T, G, T, C, C, A, T, G, T, C, A, C, C, C, ...</td>\n",
       "      <td>0</td>\n",
       "    </tr>\n",
       "    <tr>\n",
       "      <th>103359</th>\n",
       "      <td>(A, T, G, G, C, C, A, A, T, T, C, G, G, G, C, ...</td>\n",
       "      <td>0</td>\n",
       "    </tr>\n",
       "    <tr>\n",
       "      <th>103360</th>\n",
       "      <td>(A, T, G, C, T, G, G, A, A, T, T, A, C, A, G, ...</td>\n",
       "      <td>0</td>\n",
       "    </tr>\n",
       "    <tr>\n",
       "      <th>103362</th>\n",
       "      <td>(A, T, G, G, C, C, A, A, G, G, T, G, T, C, G, ...</td>\n",
       "      <td>0</td>\n",
       "    </tr>\n",
       "    <tr>\n",
       "      <th>103363</th>\n",
       "      <td>(A, T, G, G, G, T, G, A, A, C, C, C, T, C, A, ...</td>\n",
       "      <td>0</td>\n",
       "    </tr>\n",
       "  </tbody>\n",
       "</table>\n",
       "<p>94892 rows × 2 columns</p>\n",
       "</div>"
      ],
      "text/plain": [
       "                                                  DNA_seq  O_sum\n",
       "0       (A, T, G, G, A, G, A, T, C, C, C, T, G, T, G, ...      0\n",
       "1       (A, T, G, C, T, T, C, T, G, G, G, C, G, A, G, ...      0\n",
       "2       (A, T, G, C, G, G, C, C, C, C, A, G, G, A, G, ...      0\n",
       "3       (A, T, G, C, T, C, T, T, T, G, A, G, G, G, C, ...      0\n",
       "4       (A, T, G, G, C, G, G, C, G, G, C, G, G, C, T, ...      0\n",
       "...                                                   ...    ...\n",
       "103358  (A, T, G, T, C, C, A, T, G, T, C, A, C, C, C, ...      0\n",
       "103359  (A, T, G, G, C, C, A, A, T, T, C, G, G, G, C, ...      0\n",
       "103360  (A, T, G, C, T, G, G, A, A, T, T, A, C, A, G, ...      0\n",
       "103362  (A, T, G, G, C, C, A, A, G, G, T, G, T, C, G, ...      0\n",
       "103363  (A, T, G, G, G, T, G, A, A, C, C, C, T, C, A, ...      0\n",
       "\n",
       "[94892 rows x 2 columns]"
      ]
     },
     "execution_count": 275,
     "metadata": {},
     "output_type": "execute_result"
    }
   ],
   "source": [
    "dt"
   ]
  },
  {
   "cell_type": "markdown",
   "metadata": {},
   "source": [
    "Столбец O_sum нам более не нужен, удалим его:"
   ]
  },
  {
   "cell_type": "code",
   "execution_count": 276,
   "metadata": {},
   "outputs": [],
   "source": [
    "dt.drop(['O_sum'], axis=1, inplace=True)"
   ]
  },
  {
   "cell_type": "code",
   "execution_count": 277,
   "metadata": {},
   "outputs": [
    {
     "data": {
      "text/html": [
       "<div>\n",
       "<style scoped>\n",
       "    .dataframe tbody tr th:only-of-type {\n",
       "        vertical-align: middle;\n",
       "    }\n",
       "\n",
       "    .dataframe tbody tr th {\n",
       "        vertical-align: top;\n",
       "    }\n",
       "\n",
       "    .dataframe thead th {\n",
       "        text-align: right;\n",
       "    }\n",
       "</style>\n",
       "<table border=\"1\" class=\"dataframe\">\n",
       "  <thead>\n",
       "    <tr style=\"text-align: right;\">\n",
       "      <th></th>\n",
       "      <th>DNA_seq</th>\n",
       "    </tr>\n",
       "  </thead>\n",
       "  <tbody>\n",
       "    <tr>\n",
       "      <th>0</th>\n",
       "      <td>(A, T, G, G, A, G, A, T, C, C, C, T, G, T, G, ...</td>\n",
       "    </tr>\n",
       "    <tr>\n",
       "      <th>1</th>\n",
       "      <td>(A, T, G, C, T, T, C, T, G, G, G, C, G, A, G, ...</td>\n",
       "    </tr>\n",
       "    <tr>\n",
       "      <th>2</th>\n",
       "      <td>(A, T, G, C, G, G, C, C, C, C, A, G, G, A, G, ...</td>\n",
       "    </tr>\n",
       "    <tr>\n",
       "      <th>3</th>\n",
       "      <td>(A, T, G, C, T, C, T, T, T, G, A, G, G, G, C, ...</td>\n",
       "    </tr>\n",
       "    <tr>\n",
       "      <th>4</th>\n",
       "      <td>(A, T, G, G, C, G, G, C, G, G, C, G, G, C, T, ...</td>\n",
       "    </tr>\n",
       "    <tr>\n",
       "      <th>...</th>\n",
       "      <td>...</td>\n",
       "    </tr>\n",
       "    <tr>\n",
       "      <th>103358</th>\n",
       "      <td>(A, T, G, T, C, C, A, T, G, T, C, A, C, C, C, ...</td>\n",
       "    </tr>\n",
       "    <tr>\n",
       "      <th>103359</th>\n",
       "      <td>(A, T, G, G, C, C, A, A, T, T, C, G, G, G, C, ...</td>\n",
       "    </tr>\n",
       "    <tr>\n",
       "      <th>103360</th>\n",
       "      <td>(A, T, G, C, T, G, G, A, A, T, T, A, C, A, G, ...</td>\n",
       "    </tr>\n",
       "    <tr>\n",
       "      <th>103362</th>\n",
       "      <td>(A, T, G, G, C, C, A, A, G, G, T, G, T, C, G, ...</td>\n",
       "    </tr>\n",
       "    <tr>\n",
       "      <th>103363</th>\n",
       "      <td>(A, T, G, G, G, T, G, A, A, C, C, C, T, C, A, ...</td>\n",
       "    </tr>\n",
       "  </tbody>\n",
       "</table>\n",
       "<p>94892 rows × 1 columns</p>\n",
       "</div>"
      ],
      "text/plain": [
       "                                                  DNA_seq\n",
       "0       (A, T, G, G, A, G, A, T, C, C, C, T, G, T, G, ...\n",
       "1       (A, T, G, C, T, T, C, T, G, G, G, C, G, A, G, ...\n",
       "2       (A, T, G, C, G, G, C, C, C, C, A, G, G, A, G, ...\n",
       "3       (A, T, G, C, T, C, T, T, T, G, A, G, G, G, C, ...\n",
       "4       (A, T, G, G, C, G, G, C, G, G, C, G, G, C, T, ...\n",
       "...                                                   ...\n",
       "103358  (A, T, G, T, C, C, A, T, G, T, C, A, C, C, C, ...\n",
       "103359  (A, T, G, G, C, C, A, A, T, T, C, G, G, G, C, ...\n",
       "103360  (A, T, G, C, T, G, G, A, A, T, T, A, C, A, G, ...\n",
       "103362  (A, T, G, G, C, C, A, A, G, G, T, G, T, C, G, ...\n",
       "103363  (A, T, G, G, G, T, G, A, A, C, C, C, T, C, A, ...\n",
       "\n",
       "[94892 rows x 1 columns]"
      ]
     },
     "execution_count": 277,
     "metadata": {},
     "output_type": "execute_result"
    }
   ],
   "source": [
    "dt"
   ]
  },
  {
   "cell_type": "code",
   "execution_count": 391,
   "metadata": {},
   "outputs": [
    {
     "data": {
      "text/html": [
       "<div>\n",
       "<style scoped>\n",
       "    .dataframe tbody tr th:only-of-type {\n",
       "        vertical-align: middle;\n",
       "    }\n",
       "\n",
       "    .dataframe tbody tr th {\n",
       "        vertical-align: top;\n",
       "    }\n",
       "\n",
       "    .dataframe thead th {\n",
       "        text-align: right;\n",
       "    }\n",
       "</style>\n",
       "<table border=\"1\" class=\"dataframe\">\n",
       "  <thead>\n",
       "    <tr style=\"text-align: right;\">\n",
       "      <th></th>\n",
       "      <th>DNA_seq</th>\n",
       "    </tr>\n",
       "  </thead>\n",
       "  <tbody>\n",
       "    <tr>\n",
       "      <th>0</th>\n",
       "      <td>(A, T, G, G, A, G, A, T, C, C, C, T, G, T, G, ...</td>\n",
       "    </tr>\n",
       "    <tr>\n",
       "      <th>1</th>\n",
       "      <td>(A, T, G, C, T, T, C, T, G, G, G, C, G, A, G, ...</td>\n",
       "    </tr>\n",
       "    <tr>\n",
       "      <th>2</th>\n",
       "      <td>(A, T, G, C, G, G, C, C, C, C, A, G, G, A, G, ...</td>\n",
       "    </tr>\n",
       "    <tr>\n",
       "      <th>3</th>\n",
       "      <td>(A, T, G, C, T, C, T, T, T, G, A, G, G, G, C, ...</td>\n",
       "    </tr>\n",
       "    <tr>\n",
       "      <th>4</th>\n",
       "      <td>(A, T, G, G, C, G, G, C, G, G, C, G, G, C, T, ...</td>\n",
       "    </tr>\n",
       "    <tr>\n",
       "      <th>...</th>\n",
       "      <td>...</td>\n",
       "    </tr>\n",
       "    <tr>\n",
       "      <th>95</th>\n",
       "      <td>(A, T, G, C, C, G, A, A, G, T, C, G, T, G, C, ...</td>\n",
       "    </tr>\n",
       "    <tr>\n",
       "      <th>96</th>\n",
       "      <td>(A, T, G, G, G, G, G, A, T, A, C, T, G, G, C, ...</td>\n",
       "    </tr>\n",
       "    <tr>\n",
       "      <th>97</th>\n",
       "      <td>(A, T, G, G, G, T, T, G, C, G, A, C, G, G, G, ...</td>\n",
       "    </tr>\n",
       "    <tr>\n",
       "      <th>98</th>\n",
       "      <td>(A, T, G, A, G, G, A, A, A, A, G, T, C, C, A, ...</td>\n",
       "    </tr>\n",
       "    <tr>\n",
       "      <th>99</th>\n",
       "      <td>(A, T, G, A, A, G, G, G, T, G, G, C, T, T, C, ...</td>\n",
       "    </tr>\n",
       "  </tbody>\n",
       "</table>\n",
       "<p>100 rows × 1 columns</p>\n",
       "</div>"
      ],
      "text/plain": [
       "                                              DNA_seq\n",
       "0   (A, T, G, G, A, G, A, T, C, C, C, T, G, T, G, ...\n",
       "1   (A, T, G, C, T, T, C, T, G, G, G, C, G, A, G, ...\n",
       "2   (A, T, G, C, G, G, C, C, C, C, A, G, G, A, G, ...\n",
       "3   (A, T, G, C, T, C, T, T, T, G, A, G, G, G, C, ...\n",
       "4   (A, T, G, G, C, G, G, C, G, G, C, G, G, C, T, ...\n",
       "..                                                ...\n",
       "95  (A, T, G, C, C, G, A, A, G, T, C, G, T, G, C, ...\n",
       "96  (A, T, G, G, G, G, G, A, T, A, C, T, G, G, C, ...\n",
       "97  (A, T, G, G, G, T, T, G, C, G, A, C, G, G, G, ...\n",
       "98  (A, T, G, A, G, G, A, A, A, A, G, T, C, C, A, ...\n",
       "99  (A, T, G, A, A, G, G, G, T, G, G, C, T, T, C, ...\n",
       "\n",
       "[100 rows x 1 columns]"
      ]
     },
     "execution_count": 391,
     "metadata": {},
     "output_type": "execute_result"
    }
   ],
   "source": [
    "df = dt.iloc[:100]\n",
    "df"
   ]
  },
  {
   "cell_type": "code",
   "execution_count": 394,
   "metadata": {},
   "outputs": [],
   "source": [
    "X_ts = []\n",
    "Y_exepct = []\n",
    "for i in df['DNA_seq']:\n",
    "    X_ts.append(i[:45])\n",
    "    Y_exepct.append(i[45:46])"
   ]
  },
  {
   "cell_type": "code",
   "execution_count": 278,
   "metadata": {},
   "outputs": [],
   "source": [
    "Fout = open ( \"DNA.txt\", \"w\" ) \n",
    "\n",
    "lister = []\n",
    "for i in dt['DNA_seq']:\n",
    "    lister.append(i)\n",
    "\n",
    "for x in lister:     \n",
    "    Fout.write (str(x)+\"\\n\"+\"\\n\") "
   ]
  },
  {
   "cell_type": "code",
   "execution_count": 281,
   "metadata": {},
   "outputs": [
    {
     "name": "stdout",
     "output_type": "stream",
     "text": [
      "Длина текстового документа: 85147518\n"
     ]
    }
   ],
   "source": [
    "text = open('DNA.txt', 'rb').read().decode(encoding='cp1251')\n",
    "print (f'Длина текстового документа: {len(text)}')"
   ]
  },
  {
   "cell_type": "markdown",
   "metadata": {},
   "source": [
    "Составим список уникальных символов в нашем текстовом документе: "
   ]
  },
  {
   "cell_type": "code",
   "execution_count": 327,
   "metadata": {},
   "outputs": [
    {
     "name": "stdout",
     "output_type": "stream",
     "text": [
      "Количество уникальных значений словаря 6\n"
     ]
    }
   ],
   "source": [
    "vocabulary = sorted(set(text))\n",
    "print (f'Количество уникальных значений словаря {len(vocabulary)}')"
   ]
  },
  {
   "cell_type": "markdown",
   "metadata": {},
   "source": [
    "#  Векторизация:"
   ]
  },
  {
   "cell_type": "markdown",
   "metadata": {},
   "source": [
    "Машины не умеют напрямую обрабатывать символьные признаки. Поэтому прежде чем подавать данные на вход алгоритма машинного обучения преобразуем категориальные признаки в количественные."
   ]
  },
  {
   "cell_type": "code",
   "execution_count": 328,
   "metadata": {},
   "outputs": [
    {
     "data": {
      "text/plain": [
       "array([2, 5, 4, ..., 0, 1, 0])"
      ]
     },
     "execution_count": 328,
     "metadata": {},
     "output_type": "execute_result"
    }
   ],
   "source": [
    "# Присваиваем каждому символу уникальное отображение\n",
    "numeric = {u:i for i, u in enumerate(vocabulary)}      \n",
    "index = np.array(vocabulary)                        \n",
    "  \n",
    "\n",
    "text_as_int = np.array([numeric[i] for i in text])\n",
    "text_as_int"
   ]
  },
  {
   "cell_type": "markdown",
   "metadata": {},
   "source": [
    "Теперь у нас есть целочисленное представление для каждого символа."
   ]
  },
  {
   "cell_type": "code",
   "execution_count": 329,
   "metadata": {},
   "outputs": [
    {
     "name": "stdout",
     "output_type": "stream",
     "text": [
      "'\\n' : 0\n",
      "'\\r' : 1\n",
      "'A' : 2\n",
      "'C' : 3\n",
      "'G' : 4\n",
      "'T' : 5\n"
     ]
    }
   ],
   "source": [
    "for char,_ in zip(numeric, range(len(vocabulary))):\n",
    "    print(f'{repr(char)} : {numeric[char]}')"
   ]
  },
  {
   "cell_type": "markdown",
   "metadata": {},
   "source": [
    "Проверим на небольшом куске текста работу нашего преобразователя символов:"
   ]
  },
  {
   "cell_type": "code",
   "execution_count": 330,
   "metadata": {},
   "outputs": [
    {
     "name": "stdout",
     "output_type": "stream",
     "text": [
      "'ATGGAGATCCCTG' : [2 5 4 4 2 4 2 5 3 3 3 5 4]\n"
     ]
    }
   ],
   "source": [
    "print (f'{(repr(text[:13]))} : {(text_as_int[:13])}')"
   ]
  },
  {
   "cell_type": "markdown",
   "metadata": {},
   "source": [
    "# Создание обучающей выборки и выходных признаков:"
   ]
  },
  {
   "cell_type": "markdown",
   "metadata": {},
   "source": [
    "Входными данными для модели будет последовательность символов, наша задача обучить модель прогнозировать выходные данные - следующий символ на каждом временном шаге.\n",
    "\n",
    "RNN поддерживает  внутреннее состояние, которое зависит от ранее определенных элементов, учитывая все символы, вычисленные до настоящего момента."
   ]
  },
  {
   "cell_type": "markdown",
   "metadata": {},
   "source": [
    "Разделим текст на последовательности для обучающей выборки. Каждая входная последовательность будет содержать символы seq_length из текста.Для каждой входной последовательности соответствующий выходной признак будет содержат одинаковую длину текста со смещением на один символ вправо.\n",
    "\n",
    "Для этого используем функцию tf.data.Dataset.from_tensor_slices, чтобы преобразовать текстовый вектор в поток символьных индексов."
   ]
  },
  {
   "cell_type": "code",
   "execution_count": 331,
   "metadata": {},
   "outputs": [
    {
     "name": "stdout",
     "output_type": "stream",
     "text": [
      "A\n",
      "T\n",
      "G\n",
      "G\n",
      "A\n",
      "G\n",
      "A\n",
      "T\n",
      "C\n",
      "C\n",
      "C\n",
      "T\n",
      "G\n",
      "T\n",
      "G\n"
     ]
    }
   ],
   "source": [
    "# Из задания: знаем, что есть 5-30 известных символов слева:\n",
    "# Максимальная длина последовательнсти, которое мы хотим для одного ввода в символах\n",
    "seq_length = 30\n",
    "examples_per_epoch = len(text)//(seq_length+1)\n",
    "\n",
    "# Создаем учебные примеры / целевые признаки\n",
    "symb_dataset = tf.data.Dataset.from_tensor_slices(text_as_int)\n",
    "\n",
    "for i in symb_dataset.take(15):\n",
    "    print(index[i.numpy()])"
   ]
  },
  {
   "cell_type": "markdown",
   "metadata": {},
   "source": [
    "Пакетный метод позволяет нам легко конвертировать отдельные символы в последовательности нужного нам размера."
   ]
  },
  {
   "cell_type": "code",
   "execution_count": 332,
   "metadata": {},
   "outputs": [
    {
     "name": "stdout",
     "output_type": "stream",
     "text": [
      "'ATGGAGATCCCTGTGCCTGTGCAGCCGTCTT'\n",
      "'GGCTGCGCCGCGCCTCGGCCCCGTTGCCCGG'\n",
      "'ACTTTCGGCGCCCGGACGCCTCTTTGACCAG'\n",
      "'CGCTTCGGCGAGGGGCTGCTGGAGGCCGAGC'\n",
      "'TGGCTGCGCTCTGCCCCACCACGCTCGCCCC'\n"
     ]
    }
   ],
   "source": [
    "sequences = symb_dataset.batch(seq_length+1, drop_remainder=True)\n",
    "\n",
    "for item in sequences.take(5):\n",
    "    print(repr(''.join(index[item.numpy()])))"
   ]
  },
  {
   "cell_type": "markdown",
   "metadata": {},
   "source": [
    "Для каждой последовательности продублируем ее и сдвинем, чтобы сформировать входной и целевой текст.\n",
    "Используем метод map для применения простой функции к каждому пакету:"
   ]
  },
  {
   "cell_type": "code",
   "execution_count": 333,
   "metadata": {},
   "outputs": [],
   "source": [
    "def SplitTarget(leng):                #split_input_target\n",
    "    input_text = leng[:-1]\n",
    "    target_text = leng[1:]\n",
    "    return input_text, target_text\n",
    "\n",
    "dataset = sequences.map(SplitTarget)"
   ]
  },
  {
   "cell_type": "markdown",
   "metadata": {},
   "source": [
    "Выведем пример 'входной' и 'целевой' символьной последовательности:"
   ]
  },
  {
   "cell_type": "code",
   "execution_count": 334,
   "metadata": {},
   "outputs": [
    {
     "name": "stdout",
     "output_type": "stream",
     "text": [
      "Входная посл - ть: 'ATGGAGATCCCTGTGCCTGTGCAGCCGTCT'\n",
      "Выходная посл - ть: 'TGGAGATCCCTGTGCCTGTGCAGCCGTCTT'\n"
     ]
    }
   ],
   "source": [
    "for input_example, target_example in  dataset.take(1):\n",
    "    enter = repr(''.join(index[input_example.numpy()]))\n",
    "    exit = repr(''.join(index[target_example.numpy()]))\n",
    "    print(f'Входная посл - ть: {enter}')\n",
    "    print(f'Выходная посл - ть: {exit}')"
   ]
  },
  {
   "cell_type": "code",
   "execution_count": 335,
   "metadata": {},
   "outputs": [
    {
     "name": "stdout",
     "output_type": "stream",
     "text": [
      "Шаг    0\n",
      "  Вход: 2 ('A')\n",
      "  Ожидаемый выход: 5 ('T')\n",
      "Шаг    1\n",
      "  Вход: 5 ('T')\n",
      "  Ожидаемый выход: 4 ('G')\n",
      "Шаг    2\n",
      "  Вход: 4 ('G')\n",
      "  Ожидаемый выход: 4 ('G')\n",
      "Шаг    3\n",
      "  Вход: 4 ('G')\n",
      "  Ожидаемый выход: 2 ('A')\n",
      "Шаг    4\n",
      "  Вход: 2 ('A')\n",
      "  Ожидаемый выход: 4 ('G')\n"
     ]
    }
   ],
   "source": [
    "for i, (input_idx, target_idx) in enumerate(zip(input_example[:5], target_example[:5])):\n",
    "    print(\"Шаг {:4d}\".format(i))\n",
    "    print(\"  Вход: {} ({:s})\".format(input_idx, repr(idx2char[input_idx])))\n",
    "    print(\"  Ожидаемый выход: {} ({:s})\".format(target_idx, repr(idx2char[target_idx])))"
   ]
  },
  {
   "cell_type": "markdown",
   "metadata": {},
   "source": [
    "# Создаем тренировочные послед-ти:"
   ]
  },
  {
   "cell_type": "markdown",
   "metadata": {},
   "source": [
    "Мы использовали tf.data для разделения текста на управляемые последовательности. Но прежде чем вводить эти данные в модель, нам нужно перемешать данные и упаковать их в пакеты."
   ]
  },
  {
   "cell_type": "code",
   "execution_count": 336,
   "metadata": {},
   "outputs": [],
   "source": [
    "BATCH_SIZE = 100"
   ]
  },
  {
   "cell_type": "code",
   "execution_count": 337,
   "metadata": {},
   "outputs": [],
   "source": [
    "BUFFER_SIZE = 10000"
   ]
  },
  {
   "cell_type": "code",
   "execution_count": 338,
   "metadata": {},
   "outputs": [
    {
     "data": {
      "text/plain": [
       "<DatasetV1Adapter shapes: ((100, 30), (100, 30)), types: (tf.int32, tf.int32)>"
      ]
     },
     "execution_count": 338,
     "metadata": {},
     "output_type": "execute_result"
    }
   ],
   "source": [
    "dataset = dataset.shuffle(BUFFER_SIZE).batch(BATCH_SIZE, drop_remainder=True)\n",
    "dataset"
   ]
  },
  {
   "cell_type": "markdown",
   "metadata": {},
   "source": [
    "# Создаем модель:"
   ]
  },
  {
   "cell_type": "code",
   "execution_count": 339,
   "metadata": {},
   "outputs": [],
   "source": [
    "# размер списка уникальных значений\n",
    "vocab_size = len(vocabulary)\n",
    "# Размер вложения\n",
    "embedding_dim = 128\n",
    "# Количество блоков RNN\n",
    "rnn_units = 256"
   ]
  },
  {
   "cell_type": "code",
   "execution_count": 340,
   "metadata": {},
   "outputs": [],
   "source": [
    "def build_model(vocab_size, embedding_dim, rnn_units, batch_size):\n",
    "    model = tf.keras.Sequential([\n",
    "    tf.keras.layers.Embedding(vocab_size, embedding_dim,\n",
    "                              batch_input_shape=[batch_size, None]),\n",
    "    tf.keras.layers.GRU(rnn_units,\n",
    "                        return_sequences=True,\n",
    "                        stateful=True,\n",
    "                        recurrent_initializer='glorot_uniform'),\n",
    "    tf.keras.layers.Dense(vocab_size)\n",
    "    ])\n",
    "    return model"
   ]
  },
  {
   "cell_type": "code",
   "execution_count": 341,
   "metadata": {},
   "outputs": [],
   "source": [
    "model = build_model(\n",
    "  vocab_size = len(vocab),\n",
    "  embedding_dim=embedding_dim,\n",
    "  rnn_units=rnn_units,\n",
    "  batch_size=BATCH_SIZE)"
   ]
  },
  {
   "cell_type": "markdown",
   "metadata": {},
   "source": [
    "Для каждого символа модель ищет вложение, запускает один шаг GRU с вложением в качестве входных данных и применяет плотный слой для создания логитов, предсказывающих логарифмическую вероятность следующего символа:"
   ]
  },
  {
   "cell_type": "markdown",
   "metadata": {},
   "source": [
    "# Пробный запуск модели:"
   ]
  },
  {
   "cell_type": "markdown",
   "metadata": {},
   "source": [
    "Теперь запустим модель, чтобы убедиться, что она ведет себя так, как ожидалось."
   ]
  },
  {
   "cell_type": "code",
   "execution_count": 343,
   "metadata": {},
   "outputs": [
    {
     "name": "stdout",
     "output_type": "stream",
     "text": [
      "(100, 30, 6)\n"
     ]
    }
   ],
   "source": [
    "for input_example_batch, target_example_batch in dataset.take(1):\n",
    "    example_batch_predictions = model(input_example_batch)\n",
    "    print(example_batch_predictions.shape)"
   ]
  },
  {
   "cell_type": "markdown",
   "metadata": {},
   "source": [
    "В вышеприведенном примере длина последовательности ввода равна 100, но модель можно запустить на входах любой длины:"
   ]
  },
  {
   "cell_type": "code",
   "execution_count": 344,
   "metadata": {},
   "outputs": [
    {
     "name": "stdout",
     "output_type": "stream",
     "text": [
      "Model: \"sequential\"\n",
      "_________________________________________________________________\n",
      "Layer (type)                 Output Shape              Param #   \n",
      "=================================================================\n",
      "embedding (Embedding)        (100, None, 128)          768       \n",
      "_________________________________________________________________\n",
      "gru (GRU)                    (100, None, 256)          295680    \n",
      "_________________________________________________________________\n",
      "dense (Dense)                (100, None, 6)            1542      \n",
      "=================================================================\n",
      "Total params: 297,990\n",
      "Trainable params: 297,990\n",
      "Non-trainable params: 0\n",
      "_________________________________________________________________\n"
     ]
    }
   ],
   "source": [
    "model.summary()"
   ]
  },
  {
   "cell_type": "code",
   "execution_count": 345,
   "metadata": {},
   "outputs": [],
   "source": [
    "sampled_indices = tf.random.categorical(example_batch_predictions[0], num_samples=1)\n",
    "sampled_indices = tf.squeeze(sampled_indices,axis=-1).numpy()"
   ]
  },
  {
   "cell_type": "code",
   "execution_count": 346,
   "metadata": {},
   "outputs": [
    {
     "data": {
      "text/plain": [
       "array([2, 5, 5, 2, 0, 4, 4, 2, 5, 2, 0, 0, 3, 1, 5, 2, 5, 2, 4, 3, 1, 3,\n",
       "       0, 4, 1, 5, 0, 2, 2, 0], dtype=int64)"
      ]
     },
     "execution_count": 346,
     "metadata": {},
     "output_type": "execute_result"
    }
   ],
   "source": [
    "sampled_indices"
   ]
  },
  {
   "cell_type": "markdown",
   "metadata": {},
   "source": [
    "Расшифруем ее, чтобы увидеть текст, предсказанный этой неподготовленной моделью:"
   ]
  },
  {
   "cell_type": "code",
   "execution_count": 362,
   "metadata": {},
   "outputs": [
    {
     "name": "stdout",
     "output_type": "stream",
     "text": [
      "След. символ: \n",
      " 'A'\n"
     ]
    }
   ],
   "source": [
    "print(\"След. символ: \\n\", repr(\"\".join(index[sampled_indices][0])))"
   ]
  },
  {
   "cell_type": "markdown",
   "metadata": {},
   "source": [
    "# Обучение модели:"
   ]
  },
  {
   "cell_type": "markdown",
   "metadata": {},
   "source": [
    "На этом этапе проблема может рассматриваться как стандартная проблема классификации. Учитывая предыдущее состояние RNN и ввод этого временного шага, предсказать класс следующего символа."
   ]
  },
  {
   "cell_type": "code",
   "execution_count": 363,
   "metadata": {},
   "outputs": [
    {
     "name": "stdout",
     "output_type": "stream",
     "text": [
      "Prediction shape:  (100, 30, 6)  # (batch_size, sequence_length, vocab_size)\n",
      "scalar_loss:       1.7925793\n"
     ]
    }
   ],
   "source": [
    "def loss(labels, logits):\n",
    "    return tf.keras.losses.sparse_categorical_crossentropy(labels, logits, from_logits=True)\n",
    "\n",
    "example_batch_loss  = loss(target_example_batch, example_batch_predictions)\n",
    "print(\"Prediction shape: \", example_batch_predictions.shape, \" # (batch_size, sequence_length, vocab_size)\")\n",
    "print(\"scalar_loss:      \", example_batch_loss.numpy().mean())"
   ]
  },
  {
   "cell_type": "markdown",
   "metadata": {},
   "source": [
    "Настроем процедуру обучения с помощью метода tf.keras.Model.compile. Мы будем использовать tf.keras.optimizers.Adam с аргументами по умолчанию и функцией потерь."
   ]
  },
  {
   "cell_type": "code",
   "execution_count": 364,
   "metadata": {},
   "outputs": [],
   "source": [
    "model.compile(optimizer='adam', loss=loss)"
   ]
  },
  {
   "cell_type": "markdown",
   "metadata": {},
   "source": [
    "Используйте tf.keras.callbacks.ModelCheckpoint, чтобы гарантировать сохранение контрольных точек во время обучения:"
   ]
  },
  {
   "cell_type": "code",
   "execution_count": 365,
   "metadata": {},
   "outputs": [],
   "source": [
    "# Каталог, в котором будут сохранены контрольные точки\n",
    "checkpoint_dir = './training_checkpoints'\n",
    "# Имя файлов контрольных точек\n",
    "checkpoint_prefix = os.path.join(checkpoint_dir, \"ckpt_{epoch}\")\n",
    "\n",
    "checkpoint_callback=tf.keras.callbacks.ModelCheckpoint(\n",
    "    filepath=checkpoint_prefix,\n",
    "    save_weights_only=True)"
   ]
  },
  {
   "cell_type": "markdown",
   "metadata": {},
   "source": [
    "### Задаем количество эпох:"
   ]
  },
  {
   "cell_type": "code",
   "execution_count": 369,
   "metadata": {},
   "outputs": [],
   "source": [
    "EPOCHS=10"
   ]
  },
  {
   "cell_type": "code",
   "execution_count": 370,
   "metadata": {},
   "outputs": [
    {
     "name": "stdout",
     "output_type": "stream",
     "text": [
      "Epoch 1/10\n",
      "27466/27466 [==============================] - 3356s 122ms/step - loss: 1.3207\n",
      "Epoch 2/10\n",
      "27466/27466 [==============================] - 3338s 122ms/step - loss: 1.3195\n",
      "Epoch 3/10\n",
      "27466/27466 [==============================] - 3363s 122ms/step - loss: 1.3194\n",
      "Epoch 4/10\n",
      "27466/27466 [==============================] - 3352s 122ms/step - loss: 1.3197\n",
      "Epoch 5/10\n",
      "27466/27466 [==============================] - 3350s 122ms/step - loss: 1.3205\n",
      "Epoch 6/10\n",
      "27466/27466 [==============================] - 3337s 122ms/step - loss: 1.3218\n",
      "Epoch 7/10\n",
      "27466/27466 [==============================] - 3371s 123ms/step - loss: 1.3280\n",
      "Epoch 8/10\n",
      "27466/27466 [==============================] - 3362s 122ms/step - loss: 1.3300\n",
      "Epoch 9/10\n",
      "27466/27466 [==============================] - 3378s 123ms/step - loss: 1.3325\n",
      "Epoch 10/10\n",
      "27466/27466 [==============================] - 3418s 124ms/step - loss: 1.3346\n"
     ]
    }
   ],
   "source": [
    "history = model.fit(dataset, epochs=EPOCHS, callbacks=[checkpoint_callback])"
   ]
  },
  {
   "cell_type": "markdown",
   "metadata": {},
   "source": [
    "Из-за способа передачи состояния RNN от временного шага к временному шагу модель принимает фиксированный размер пакета только после создания.\n",
    "Чтобы запустить модель с другим размером batch_size, нам нужно перестроить модель и восстановить весовые коэффициенты с контрольной точки."
   ]
  },
  {
   "cell_type": "code",
   "execution_count": 371,
   "metadata": {},
   "outputs": [
    {
     "data": {
      "text/plain": [
       "'./training_checkpoints\\\\ckpt_10'"
      ]
     },
     "execution_count": 371,
     "metadata": {},
     "output_type": "execute_result"
    }
   ],
   "source": [
    "tf.train.latest_checkpoint(checkpoint_dir)"
   ]
  },
  {
   "cell_type": "code",
   "execution_count": 372,
   "metadata": {},
   "outputs": [],
   "source": [
    "model = build_model(vocab_size, embedding_dim, rnn_units, batch_size=1)\n",
    "\n",
    "model.load_weights(tf.train.latest_checkpoint(checkpoint_dir))\n",
    "\n",
    "model.build(tf.TensorShape([1, None]))"
   ]
  },
  {
   "cell_type": "code",
   "execution_count": 373,
   "metadata": {},
   "outputs": [
    {
     "name": "stdout",
     "output_type": "stream",
     "text": [
      "Model: \"sequential_1\"\n",
      "_________________________________________________________________\n",
      "Layer (type)                 Output Shape              Param #   \n",
      "=================================================================\n",
      "embedding_1 (Embedding)      (1, None, 128)            768       \n",
      "_________________________________________________________________\n",
      "gru_1 (GRU)                  (1, None, 256)            295680    \n",
      "_________________________________________________________________\n",
      "dense_1 (Dense)              (1, None, 6)              1542      \n",
      "=================================================================\n",
      "Total params: 297,990\n",
      "Trainable params: 297,990\n",
      "Non-trainable params: 0\n",
      "_________________________________________________________________\n"
     ]
    }
   ],
   "source": [
    "model.summary()"
   ]
  },
  {
   "cell_type": "markdown",
   "metadata": {},
   "source": [
    "Состояние RNN, возвращаемое моделью, повторно возвращается в модель, так что теперь оно имеет больше контекста(веса), чем только один символ. После прогнозирования следующего символа измененные состояния RNN снова возвращаются в модель, что позволяет ей узнавать больше информации из ранее предсказанных символов."
   ]
  },
  {
   "cell_type": "code",
   "execution_count": 419,
   "metadata": {},
   "outputs": [],
   "source": [
    "def generate_text(model, start_string):\n",
    "    num_generate = 1\n",
    "\n",
    "    # Векторизуем изучаемую строку\n",
    "    input_eval = [char2idx[s] for s in start_string]\n",
    "    # возвращает тензор с дополнительным измерением, вставленным по оси индекса\n",
    "    input_eval = tf.expand_dims(input_eval, 0)\n",
    "\n",
    "    # Строка для хранения наших результатов\n",
    "    text_generated = []\n",
    "\n",
    "    temperature = 0.1\n",
    "\n",
    "    # Batch size == 1\n",
    "    model.reset_states()\n",
    "    for i in range(num_generate):\n",
    "        predictions = model(input_eval)\n",
    "        # удалить batch\n",
    "        predictions = tf.squeeze(predictions, 0)\n",
    "\n",
    "        # используем категориальное распределение для прогнозирования символа, возвращаемого моделью\n",
    "        predictions = predictions / temperature\n",
    "        predicted_id = tf.random.categorical(predictions, num_samples=1)[-1,0].numpy()\n",
    "\n",
    "        # Мы передаем предсказанный символ как следующий вход в модель вместе с предыдущим скрытым состоянием\n",
    "        input_eval = tf.expand_dims([predicted_id], 0)\n",
    "\n",
    "        text_generated.append(idx2char[predicted_id])\n",
    "        \n",
    "        return (text_generated)"
   ]
  },
  {
   "cell_type": "markdown",
   "metadata": {},
   "source": [
    "# Проверка:"
   ]
  },
  {
   "cell_type": "code",
   "execution_count": 420,
   "metadata": {},
   "outputs": [],
   "source": [
    "result = []\n",
    "for i in X_ts:\n",
    "    result.append(generate_text(model, i))"
   ]
  },
  {
   "cell_type": "code",
   "execution_count": 421,
   "metadata": {},
   "outputs": [],
   "source": [
    "Res = []\n",
    "for i in result:\n",
    "    for j in (i):\n",
    "        Res.append(j)"
   ]
  },
  {
   "cell_type": "code",
   "execution_count": 422,
   "metadata": {},
   "outputs": [],
   "source": [
    "counter = 0\n",
    "for i, j in zip(Res,Y_exepct):\n",
    "    if i == j:\n",
    "        counter +=1\n",
    "    else:\n",
    "        pass"
   ]
  },
  {
   "cell_type": "code",
   "execution_count": 426,
   "metadata": {},
   "outputs": [
    {
     "name": "stdout",
     "output_type": "stream",
     "text": [
      "Процент правильно спрогнозируемых символов 40.0 %\n"
     ]
    }
   ],
   "source": [
    "Per_of_guess = round((counter/len(X_ts))*100,2)\n",
    "print(f'Процент правильно спрогнозируемых символов {Per_of_guess} %')"
   ]
  },
  {
   "cell_type": "markdown",
   "metadata": {},
   "source": [
    "# Вывод:"
   ]
  },
  {
   "cell_type": "markdown",
   "metadata": {},
   "source": [
    "В данной работе была проведена попытка использования RNN сетей для прогнозирования выпавших символов цепочки ДНК. Выбор был обусловлен тем, что рекуррентные нейронные сети (RNN) — это класс нейронных сетей, которые хороши для моделирования последовательных данных, таких как временные ряды или естественный язык. Для первого приближения модель выдает 40% правильных результатов, это говорит о том что она требует более тонкой настройки и доработки, которая будет учтена в следующей версии."
   ]
  }
 ],
 "metadata": {
  "kernelspec": {
   "display_name": "Python 3",
   "language": "python",
   "name": "python3"
  },
  "language_info": {
   "codemirror_mode": {
    "name": "ipython",
    "version": 3
   },
   "file_extension": ".py",
   "mimetype": "text/x-python",
   "name": "python",
   "nbconvert_exporter": "python",
   "pygments_lexer": "ipython3",
   "version": "3.7.6"
  }
 },
 "nbformat": 4,
 "nbformat_minor": 4
}
